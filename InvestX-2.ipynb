{
  "nbformat": 4,
  "nbformat_minor": 0,
  "metadata": {
    "colab": {
      "provenance": [],
      "include_colab_link": true
    },
    "kernelspec": {
      "name": "python3",
      "display_name": "Python 3"
    },
    "language_info": {
      "name": "python"
    },
    "gpuClass": "standard"
  },
  "cells": [
    {
      "cell_type": "markdown",
      "metadata": {
        "id": "view-in-github",
        "colab_type": "text"
      },
      "source": [
        "<a href=\"https://colab.research.google.com/github/ayushku634/INVESTX/blob/main/LSTMTrain.ipynb\" target=\"_parent\"><img src=\"https://colab.research.google.com/assets/colab-badge.svg\" alt=\"Open In Colab\"/></a>"
      ]
    },
    {
      "cell_type": "code",
      "execution_count": 244,
      "metadata": {
        "id": "F3NmyDkdaw3f"
      },
      "outputs": [],
      "source": [
        "import numpy as np\n",
        "import math\n",
        "from tensorflow.keras.models import Sequential\n",
        "from tensorflow.keras.layers import LSTM\n",
        "from tensorflow.keras.layers import Dense, Dropout\n",
        "import pandas as pd\n",
        "from matplotlib import pyplot as plt\n",
        "from sklearn.preprocessing import StandardScaler\n",
        "import seaborn as sns\n",
        "#from datetime import datetime"
      ]
    },
    {
      "cell_type": "code",
      "source": [
        "from google.colab import drive\n",
        "drive.mount('/content/drive')"
      ],
      "metadata": {
        "colab": {
          "base_uri": "https://localhost:8080/"
        },
        "id": "MG4QGrNcnQNu",
        "outputId": "4a7f2ef0-6da6-4004-9784-fd0e8076d52f"
      },
      "execution_count": 245,
      "outputs": [
        {
          "output_type": "stream",
          "name": "stdout",
          "text": [
            "Drive already mounted at /content/drive; to attempt to forcibly remount, call drive.mount(\"/content/drive\", force_remount=True).\n"
          ]
        }
      ]
    },
    {
      "cell_type": "code",
      "source": [
        "df = pd.read_csv('/content/drive/MyDrive/Train.csv')\n",
        "print(df.head())\n",
        "df=df.head(150)"
      ],
      "metadata": {
        "colab": {
          "base_uri": "https://localhost:8080/"
        },
        "id": "9aH7bA5fdNV8",
        "outputId": "389b4916-663d-41bc-bce2-6611f458d87d"
      },
      "execution_count": 246,
      "outputs": [
        {
          "output_type": "stream",
          "name": "stdout",
          "text": [
            "         Date    Stock  liabilities      equity  total_assets  current_assets  \\\n",
            "0  2006-07-31  Stock 1   625.898686  925.086518   1550.985204      675.789905   \n",
            "1  2006-08-31  Stock 1   407.387467  903.249093   1310.636561     1023.110983   \n",
            "2  2006-09-29  Stock 1   464.069891  602.668832   1066.738722      709.711673   \n",
            "3  2006-10-31  Stock 1   855.854937  391.375369   1247.230306      649.979564   \n",
            "4  2006-11-30  Stock 1   453.954969  956.490566   1410.445534     1115.594551   \n",
            "\n",
            "   current_liabilities  total_revenue  net_income   dividend  \\\n",
            "0           555.931329     548.488451  251.282553  68.184030   \n",
            "1          1295.186240     513.446432  207.576940  42.232672   \n",
            "2           598.719338     503.519871  133.719700  28.835722   \n",
            "3           733.594339     596.006397  -76.881818   0.000000   \n",
            "4          1152.274711     965.939247 -309.204301   0.000000   \n",
            "\n",
            "   shares_outstanding       price  \n",
            "0             1040831  100.000000  \n",
            "1             1046649  101.924169  \n",
            "2             1094158  103.166191  \n",
            "3             1018574  104.478956  \n",
            "4             1036293  104.160907  \n"
          ]
        }
      ]
    },
    {
      "cell_type": "code",
      "source": [
        "cols = list(df)[2:12]\n",
        "print(cols)"
      ],
      "metadata": {
        "colab": {
          "base_uri": "https://localhost:8080/"
        },
        "id": "YLtCdVuQdaqD",
        "outputId": "2c077227-2d26-4203-e003-c3d327a892b7"
      },
      "execution_count": 247,
      "outputs": [
        {
          "output_type": "stream",
          "name": "stdout",
          "text": [
            "['liabilities', 'equity', 'total_assets', 'current_assets', 'current_liabilities', 'total_revenue', 'net_income', 'dividend', 'shares_outstanding', 'price']\n"
          ]
        }
      ]
    },
    {
      "cell_type": "code",
      "source": [
        "df_for_training = df[cols].astype(float)"
      ],
      "metadata": {
        "id": "kW6fJrsveCsy"
      },
      "execution_count": 248,
      "outputs": []
    },
    {
      "cell_type": "code",
      "source": [
        "scaler = StandardScaler()\n",
        "scaler = scaler.fit(df_for_training)\n",
        "df_for_training_scaled = scaler.transform(df_for_training)"
      ],
      "metadata": {
        "id": "sMJHDh0Eea0u"
      },
      "execution_count": 249,
      "outputs": []
    },
    {
      "cell_type": "code",
      "source": [
        "trainX = []\n",
        "trainY = []"
      ],
      "metadata": {
        "id": "UXLCuxpYefYU"
      },
      "execution_count": 250,
      "outputs": []
    },
    {
      "cell_type": "code",
      "source": [
        "n_future = 1   # Number of days we want to look into the future based on the past days.\n",
        "n_past = 14 # Number of past days we want to use to predict the future."
      ],
      "metadata": {
        "id": "SlZmQQHaepNo"
      },
      "execution_count": 251,
      "outputs": []
    },
    {
      "cell_type": "code",
      "source": [
        "for i in range(n_past, len(df_for_training_scaled) - n_future +1):\n",
        "    trainX.append(df_for_training_scaled[i - n_past:i, 0:df_for_training.shape[1]])\n",
        "    trainY.append(df_for_training_scaled[i + n_future - 1:i + n_future, 9])\n",
        "\n",
        "trainX, trainY = np.array(trainX), np.array(trainY)\n",
        "\n",
        "print('trainX shape == {}.'.format(trainX.shape))\n",
        "print('trainY shape == {}.'.format(trainY.shape))"
      ],
      "metadata": {
        "colab": {
          "base_uri": "https://localhost:8080/"
        },
        "id": "9UGlhknUfFXB",
        "outputId": "6a5d7172-c81c-46cc-c48d-9e45336b8dba"
      },
      "execution_count": 252,
      "outputs": [
        {
          "output_type": "stream",
          "name": "stdout",
          "text": [
            "trainX shape == (136, 14, 10).\n",
            "trainY shape == (136, 1).\n"
          ]
        }
      ]
    },
    {
      "cell_type": "code",
      "source": [
        "df_for_training_scaled"
      ],
      "metadata": {
        "colab": {
          "base_uri": "https://localhost:8080/"
        },
        "id": "Mf2hun7pvqvf",
        "outputId": "23b435a9-228c-46b9-86e5-8233485dc20a"
      },
      "execution_count": 253,
      "outputs": [
        {
          "output_type": "execute_result",
          "data": {
            "text/plain": [
              "array([[ 0.25220378,  1.41884066,  1.28105593, ...,  1.83696687,\n",
              "        -0.33248576, -2.39597646],\n",
              "       [-0.59414981,  1.34029146,  0.61107448, ...,  0.87868441,\n",
              "        -0.12707445, -2.14167174],\n",
              "       [-0.37460332,  0.25910443, -0.0688005 , ...,  0.38398725,\n",
              "         1.55028652, -1.97752193],\n",
              "       ...,\n",
              "       [-1.25021177,  0.92718225, -0.18122825, ..., -0.68080352,\n",
              "         1.33922622,  0.45098837],\n",
              "       [ 0.95077629,  0.38434975,  0.98211698, ..., -0.68080352,\n",
              "        -0.14949387,  0.29755242],\n",
              "       [ 0.68338604,  0.6752647 ,  1.01512818, ..., -0.68080352,\n",
              "         0.83872591,  0.20597296]])"
            ]
          },
          "metadata": {},
          "execution_count": 253
        }
      ]
    },
    {
      "cell_type": "code",
      "source": [
        "trainY"
      ],
      "metadata": {
        "colab": {
          "base_uri": "https://localhost:8080/"
        },
        "id": "A4HvqbAkv1ZW",
        "outputId": "b6eb3f4f-561a-4501-8ce2-aeafad9df435"
      },
      "execution_count": 254,
      "outputs": [
        {
          "output_type": "execute_result",
          "data": {
            "text/plain": [
              "array([[-1.29336659],\n",
              "       [-1.47769308],\n",
              "       [-1.39607302],\n",
              "       [-1.48510424],\n",
              "       [-1.52622491],\n",
              "       [-1.43369363],\n",
              "       [-1.29010226],\n",
              "       [-1.37039056],\n",
              "       [-1.54880656],\n",
              "       [-1.76081581],\n",
              "       [-1.69680299],\n",
              "       [-1.63237441],\n",
              "       [-1.5422965 ],\n",
              "       [-1.4960694 ],\n",
              "       [-1.44809413],\n",
              "       [-1.39580814],\n",
              "       [-1.17350716],\n",
              "       [-1.13197986],\n",
              "       [-0.95825406],\n",
              "       [-0.76492415],\n",
              "       [-0.47399161],\n",
              "       [-0.45596223],\n",
              "       [-0.51737493],\n",
              "       [-0.63911435],\n",
              "       [-0.78122505],\n",
              "       [-0.74318884],\n",
              "       [-0.71427426],\n",
              "       [-0.60842931],\n",
              "       [-0.56264839],\n",
              "       [-0.59513763],\n",
              "       [-0.48704487],\n",
              "       [-0.55989148],\n",
              "       [-0.50403421],\n",
              "       [-0.31532371],\n",
              "       [-0.24776968],\n",
              "       [-0.24399868],\n",
              "       [-0.17562413],\n",
              "       [-0.0511738 ],\n",
              "       [-0.27321327],\n",
              "       [-0.29749954],\n",
              "       [-0.1927685 ],\n",
              "       [-0.100504  ],\n",
              "       [-0.03464017],\n",
              "       [ 0.07409369],\n",
              "       [ 0.0031423 ],\n",
              "       [-0.12513686],\n",
              "       [-0.30817285],\n",
              "       [-0.42448079],\n",
              "       [-0.3292571 ],\n",
              "       [-0.20683006],\n",
              "       [ 0.03884818],\n",
              "       [ 0.18756505],\n",
              "       [ 0.32675635],\n",
              "       [ 0.57092228],\n",
              "       [ 0.55311357],\n",
              "       [ 0.48878322],\n",
              "       [ 0.71853068],\n",
              "       [ 0.60891002],\n",
              "       [ 0.40620824],\n",
              "       [ 0.49861338],\n",
              "       [ 0.48324294],\n",
              "       [ 0.57509642],\n",
              "       [ 0.45668604],\n",
              "       [ 0.52523106],\n",
              "       [ 0.50042148],\n",
              "       [ 0.59367103],\n",
              "       [ 0.55398535],\n",
              "       [ 0.54335663],\n",
              "       [ 0.48116269],\n",
              "       [ 0.53596466],\n",
              "       [ 0.69310451],\n",
              "       [ 0.85796226],\n",
              "       [ 0.75673773],\n",
              "       [ 0.64611571],\n",
              "       [ 0.49827451],\n",
              "       [ 0.47793934],\n",
              "       [ 0.34195416],\n",
              "       [ 0.42691103],\n",
              "       [ 0.58444066],\n",
              "       [ 0.78550321],\n",
              "       [ 0.93675606],\n",
              "       [ 0.93281947],\n",
              "       [ 1.03966419],\n",
              "       [ 1.11073764],\n",
              "       [ 1.06120214],\n",
              "       [ 1.0797002 ],\n",
              "       [ 1.2515641 ],\n",
              "       [ 1.19898219],\n",
              "       [ 1.04848391],\n",
              "       [ 0.9439366 ],\n",
              "       [ 0.83428968],\n",
              "       [ 0.9119911 ],\n",
              "       [ 0.89484564],\n",
              "       [ 1.05318068],\n",
              "       [ 1.13638389],\n",
              "       [ 1.25854994],\n",
              "       [ 1.18331576],\n",
              "       [ 1.11257775],\n",
              "       [ 0.94915702],\n",
              "       [ 1.02740371],\n",
              "       [ 1.16166135],\n",
              "       [ 1.11606532],\n",
              "       [ 0.98602703],\n",
              "       [ 1.09430255],\n",
              "       [ 1.06116374],\n",
              "       [ 1.02768698],\n",
              "       [ 0.99121483],\n",
              "       [ 1.03037995],\n",
              "       [ 0.9629419 ],\n",
              "       [ 1.09643847],\n",
              "       [ 1.07483868],\n",
              "       [ 0.92337972],\n",
              "       [ 0.8159654 ],\n",
              "       [ 0.91621921],\n",
              "       [ 1.05793116],\n",
              "       [ 0.90509991],\n",
              "       [ 0.63731186],\n",
              "       [ 0.63570799],\n",
              "       [ 0.67817215],\n",
              "       [ 0.63837433],\n",
              "       [ 0.56329251],\n",
              "       [ 0.45416642],\n",
              "       [ 0.66907438],\n",
              "       [ 0.66418559],\n",
              "       [ 0.58592159],\n",
              "       [ 0.73892852],\n",
              "       [ 0.98049648],\n",
              "       [ 0.91736701],\n",
              "       [ 0.72142052],\n",
              "       [ 0.69320168],\n",
              "       [ 0.57881276],\n",
              "       [ 0.36565775],\n",
              "       [ 0.3552972 ],\n",
              "       [ 0.45098837],\n",
              "       [ 0.29755242],\n",
              "       [ 0.20597296]])"
            ]
          },
          "metadata": {},
          "execution_count": 254
        }
      ]
    },
    {
      "cell_type": "code",
      "source": [
        "model = Sequential()\n",
        "model.add(LSTM(64, activation='relu', input_shape=(trainX.shape[1], trainX.shape[2]), return_sequences=True)) \n",
        "model.add(LSTM(32, activation='relu', return_sequences=False))\n",
        "model.add(Dropout(0.2))\n",
        "model.add(Dense(trainY.shape[1]))\n",
        "\n",
        "model.compile(optimizer='adam', loss='mse')\n",
        "model.summary()"
      ],
      "metadata": {
        "colab": {
          "base_uri": "https://localhost:8080/"
        },
        "id": "xLJ_fEZ8foI3",
        "outputId": "37e219eb-ca17-454d-d5f7-c9a2ef5b4869"
      },
      "execution_count": 255,
      "outputs": [
        {
          "output_type": "stream",
          "name": "stdout",
          "text": [
            "Model: \"sequential_7\"\n",
            "_________________________________________________________________\n",
            " Layer (type)                Output Shape              Param #   \n",
            "=================================================================\n",
            " lstm_14 (LSTM)              (None, 14, 64)            19200     \n",
            "                                                                 \n",
            " lstm_15 (LSTM)              (None, 32)                12416     \n",
            "                                                                 \n",
            " dropout_7 (Dropout)         (None, 32)                0         \n",
            "                                                                 \n",
            " dense_7 (Dense)             (None, 1)                 33        \n",
            "                                                                 \n",
            "=================================================================\n",
            "Total params: 31,649\n",
            "Trainable params: 31,649\n",
            "Non-trainable params: 0\n",
            "_________________________________________________________________\n"
          ]
        }
      ]
    },
    {
      "cell_type": "code",
      "source": [
        "history = model.fit(trainX, trainY, epochs=5, batch_size=3, validation_split=0.1, verbose=1)"
      ],
      "metadata": {
        "colab": {
          "base_uri": "https://localhost:8080/"
        },
        "id": "gR-gELFqhCt3",
        "outputId": "591149c1-e75e-43cc-c05e-72e42b54559b"
      },
      "execution_count": 256,
      "outputs": [
        {
          "output_type": "stream",
          "name": "stdout",
          "text": [
            "Epoch 1/5\n",
            "41/41 [==============================] - 4s 26ms/step - loss: 0.3258 - val_loss: 0.0579\n",
            "Epoch 2/5\n",
            "41/41 [==============================] - 1s 17ms/step - loss: 0.0795 - val_loss: 0.0510\n",
            "Epoch 3/5\n",
            "41/41 [==============================] - 1s 17ms/step - loss: 0.0535 - val_loss: 0.0381\n",
            "Epoch 4/5\n",
            "41/41 [==============================] - 1s 16ms/step - loss: 0.0433 - val_loss: 0.0334\n",
            "Epoch 5/5\n",
            "41/41 [==============================] - 1s 17ms/step - loss: 0.0461 - val_loss: 0.0313\n"
          ]
        }
      ]
    },
    {
      "cell_type": "code",
      "source": [
        "plt.plot(history.history['loss'], label='Training loss')\n",
        "plt.plot(history.history['val_loss'], label='Validation loss')\n",
        "plt.legend()"
      ],
      "metadata": {
        "colab": {
          "base_uri": "https://localhost:8080/",
          "height": 447
        },
        "id": "ReHWBQ1VhKzd",
        "outputId": "e4e13b3d-d3a2-4b7d-ebe8-dbe6871b8832"
      },
      "execution_count": 257,
      "outputs": [
        {
          "output_type": "execute_result",
          "data": {
            "text/plain": [
              "<matplotlib.legend.Legend at 0x7faa97b4e380>"
            ]
          },
          "metadata": {},
          "execution_count": 257
        },
        {
          "output_type": "display_data",
          "data": {
            "text/plain": [
              "<Figure size 640x480 with 1 Axes>"
            ],
            "image/png": "[encoded data removed]"
          },
          "metadata": {}
        }
      ]
    },
    {
      "cell_type": "code",
      "source": [
        "from pandas.tseries.holiday import USFederalHolidayCalendar\n",
        "from pandas.tseries.offsets import CustomBusinessDay\n",
        "us_bd = CustomBusinessDay(calendar=USFederalHolidayCalendar())"
      ],
      "metadata": {
        "id": "ncph6lCWjfQ_"
      },
      "execution_count": 258,
      "outputs": []
    },
    {
      "cell_type": "code",
      "source": [
        "df2= df.head(150)\n",
        "train_dates = pd.to_datetime(df2['Date'])\n",
        "print(train_dates.tail(15)) "
      ],
      "metadata": {
        "colab": {
          "base_uri": "https://localhost:8080/"
        },
        "id": "DSZrHFBYj7iK",
        "outputId": "2e120482-2992-422b-fdf8-d74560acb863"
      },
      "execution_count": 259,
      "outputs": [
        {
          "output_type": "stream",
          "name": "stdout",
          "text": [
            "135   2017-10-31\n",
            "136   2017-11-30\n",
            "137   2017-12-29\n",
            "138   2018-01-31\n",
            "139   2018-02-28\n",
            "140   2018-03-30\n",
            "141   2018-04-30\n",
            "142   2018-05-31\n",
            "143   2018-06-29\n",
            "144   2018-07-31\n",
            "145   2018-08-31\n",
            "146   2018-09-28\n",
            "147   2018-10-31\n",
            "148   2018-11-30\n",
            "149   2018-12-31\n",
            "Name: Date, dtype: datetime64[ns]\n"
          ]
        }
      ]
    },
    {
      "cell_type": "code",
      "source": [
        "n_past = 150\n",
        "n_days_for_prediction=136  #let us predict past 15 days\n",
        "\n",
        "predict_period_dates = pd.date_range(list(train_dates)[-n_past], periods=n_days_for_prediction, freq='M').tolist()\n",
        "print(predict_period_dates)"
      ],
      "metadata": {
        "colab": {
          "base_uri": "https://localhost:8080/"
        },
        "id": "yAZn0dxejZ-b",
        "outputId": "12f27b86-2ce0-46f9-d25d-7cb3f6866720"
      },
      "execution_count": 260,
      "outputs": [
        {
          "output_type": "stream",
          "name": "stdout",
          "text": [
            "[Timestamp('2006-07-31 00:00:00', freq='M'), Timestamp('2006-08-31 00:00:00', freq='M'), Timestamp('2006-09-30 00:00:00', freq='M'), Timestamp('2006-10-31 00:00:00', freq='M'), Timestamp('2006-11-30 00:00:00', freq='M'), Timestamp('2006-12-31 00:00:00', freq='M'), Timestamp('2007-01-31 00:00:00', freq='M'), Timestamp('2007-02-28 00:00:00', freq='M'), Timestamp('2007-03-31 00:00:00', freq='M'), Timestamp('2007-04-30 00:00:00', freq='M'), Timestamp('2007-05-31 00:00:00', freq='M'), Timestamp('2007-06-30 00:00:00', freq='M'), Timestamp('2007-07-31 00:00:00', freq='M'), Timestamp('2007-08-31 00:00:00', freq='M'), Timestamp('2007-09-30 00:00:00', freq='M'), Timestamp('2007-10-31 00:00:00', freq='M'), Timestamp('2007-11-30 00:00:00', freq='M'), Timestamp('2007-12-31 00:00:00', freq='M'), Timestamp('2008-01-31 00:00:00', freq='M'), Timestamp('2008-02-29 00:00:00', freq='M'), Timestamp('2008-03-31 00:00:00', freq='M'), Timestamp('2008-04-30 00:00:00', freq='M'), Timestamp('2008-05-31 00:00:00', freq='M'), Timestamp('2008-06-30 00:00:00', freq='M'), Timestamp('2008-07-31 00:00:00', freq='M'), Timestamp('2008-08-31 00:00:00', freq='M'), Timestamp('2008-09-30 00:00:00', freq='M'), Timestamp('2008-10-31 00:00:00', freq='M'), Timestamp('2008-11-30 00:00:00', freq='M'), Timestamp('2008-12-31 00:00:00', freq='M'), Timestamp('2009-01-31 00:00:00', freq='M'), Timestamp('2009-02-28 00:00:00', freq='M'), Timestamp('2009-03-31 00:00:00', freq='M'), Timestamp('2009-04-30 00:00:00', freq='M'), Timestamp('2009-05-31 00:00:00', freq='M'), Timestamp('2009-06-30 00:00:00', freq='M'), Timestamp('2009-07-31 00:00:00', freq='M'), Timestamp('2009-08-31 00:00:00', freq='M'), Timestamp('2009-09-30 00:00:00', freq='M'), Timestamp('2009-10-31 00:00:00', freq='M'), Timestamp('2009-11-30 00:00:00', freq='M'), Timestamp('2009-12-31 00:00:00', freq='M'), Timestamp('2010-01-31 00:00:00', freq='M'), Timestamp('2010-02-28 00:00:00', freq='M'), Timestamp('2010-03-31 00:00:00', freq='M'), Timestamp('2010-04-30 00:00:00', freq='M'), Timestamp('2010-05-31 00:00:00', freq='M'), Timestamp('2010-06-30 00:00:00', freq='M'), Timestamp('2010-07-31 00:00:00', freq='M'), Timestamp('2010-08-31 00:00:00', freq='M'), Timestamp('2010-09-30 00:00:00', freq='M'), Timestamp('2010-10-31 00:00:00', freq='M'), Timestamp('2010-11-30 00:00:00', freq='M'), Timestamp('2010-12-31 00:00:00', freq='M'), Timestamp('2011-01-31 00:00:00', freq='M'), Timestamp('2011-02-28 00:00:00', freq='M'), Timestamp('2011-03-31 00:00:00', freq='M'), Timestamp('2011-04-30 00:00:00', freq='M'), Timestamp('2011-05-31 00:00:00', freq='M'), Timestamp('2011-06-30 00:00:00', freq='M'), Timestamp('2011-07-31 00:00:00', freq='M'), Timestamp('2011-08-31 00:00:00', freq='M'), Timestamp('2011-09-30 00:00:00', freq='M'), Timestamp('2011-10-31 00:00:00', freq='M'), Timestamp('2011-11-30 00:00:00', freq='M'), Timestamp('2011-12-31 00:00:00', freq='M'), Timestamp('2012-01-31 00:00:00', freq='M'), Timestamp('2012-02-29 00:00:00', freq='M'), Timestamp('2012-03-31 00:00:00', freq='M'), Timestamp('2012-04-30 00:00:00', freq='M'), Timestamp('2012-05-31 00:00:00', freq='M'), Timestamp('2012-06-30 00:00:00', freq='M'), Timestamp('2012-07-31 00:00:00', freq='M'), Timestamp('2012-08-31 00:00:00', freq='M'), Timestamp('2012-09-30 00:00:00', freq='M'), Timestamp('2012-10-31 00:00:00', freq='M'), Timestamp('2012-11-30 00:00:00', freq='M'), Timestamp('2012-12-31 00:00:00', freq='M'), Timestamp('2013-01-31 00:00:00', freq='M'), Timestamp('2013-02-28 00:00:00', freq='M'), Timestamp('2013-03-31 00:00:00', freq='M'), Timestamp('2013-04-30 00:00:00', freq='M'), Timestamp('2013-05-31 00:00:00', freq='M'), Timestamp('2013-06-30 00:00:00', freq='M'), Timestamp('2013-07-31 00:00:00', freq='M'), Timestamp('2013-08-31 00:00:00', freq='M'), Timestamp('2013-09-30 00:00:00', freq='M'), Timestamp('2013-10-31 00:00:00', freq='M'), Timestamp('2013-11-30 00:00:00', freq='M'), Timestamp('2013-12-31 00:00:00', freq='M'), Timestamp('2014-01-31 00:00:00', freq='M'), Timestamp('2014-02-28 00:00:00', freq='M'), Timestamp('2014-03-31 00:00:00', freq='M'), Timestamp('2014-04-30 00:00:00', freq='M'), Timestamp('2014-05-31 00:00:00', freq='M'), Timestamp('2014-06-30 00:00:00', freq='M'), Timestamp('2014-07-31 00:00:00', freq='M'), Timestamp('2014-08-31 00:00:00', freq='M'), Timestamp('2014-09-30 00:00:00', freq='M'), Timestamp('2014-10-31 00:00:00', freq='M'), Timestamp('2014-11-30 00:00:00', freq='M'), Timestamp('2014-12-31 00:00:00', freq='M'), Timestamp('2015-01-31 00:00:00', freq='M'), Timestamp('2015-02-28 00:00:00', freq='M'), Timestamp('2015-03-31 00:00:00', freq='M'), Timestamp('2015-04-30 00:00:00', freq='M'), Timestamp('2015-05-31 00:00:00', freq='M'), Timestamp('2015-06-30 00:00:00', freq='M'), Timestamp('2015-07-31 00:00:00', freq='M'), Timestamp('2015-08-31 00:00:00', freq='M'), Timestamp('2015-09-30 00:00:00', freq='M'), Timestamp('2015-10-31 00:00:00', freq='M'), Timestamp('2015-11-30 00:00:00', freq='M'), Timestamp('2015-12-31 00:00:00', freq='M'), Timestamp('2016-01-31 00:00:00', freq='M'), Timestamp('2016-02-29 00:00:00', freq='M'), Timestamp('2016-03-31 00:00:00', freq='M'), Timestamp('2016-04-30 00:00:00', freq='M'), Timestamp('2016-05-31 00:00:00', freq='M'), Timestamp('2016-06-30 00:00:00', freq='M'), Timestamp('2016-07-31 00:00:00', freq='M'), Timestamp('2016-08-31 00:00:00', freq='M'), Timestamp('2016-09-30 00:00:00', freq='M'), Timestamp('2016-10-31 00:00:00', freq='M'), Timestamp('2016-11-30 00:00:00', freq='M'), Timestamp('2016-12-31 00:00:00', freq='M'), Timestamp('2017-01-31 00:00:00', freq='M'), Timestamp('2017-02-28 00:00:00', freq='M'), Timestamp('2017-03-31 00:00:00', freq='M'), Timestamp('2017-04-30 00:00:00', freq='M'), Timestamp('2017-05-31 00:00:00', freq='M'), Timestamp('2017-06-30 00:00:00', freq='M'), Timestamp('2017-07-31 00:00:00', freq='M'), Timestamp('2017-08-31 00:00:00', freq='M'), Timestamp('2017-09-30 00:00:00', freq='M'), Timestamp('2017-10-31 00:00:00', freq='M')]\n"
          ]
        }
      ]
    },
    {
      "cell_type": "code",
      "source": [
        "prediction = model.predict(trainX[-n_days_for_prediction:])"
      ],
      "metadata": {
        "colab": {
          "base_uri": "https://localhost:8080/"
        },
        "id": "omuhi-fFjuzK",
        "outputId": "078b0d3a-e4f3-4649-ec3e-ad2013ec0b56"
      },
      "execution_count": 261,
      "outputs": [
        {
          "output_type": "stream",
          "name": "stdout",
          "text": [
            "5/5 [==============================] - 1s 8ms/step\n"
          ]
        }
      ]
    },
    {
      "cell_type": "code",
      "source": [
        "prediction_copies = np.repeat(prediction, df_for_training.shape[1], axis=-1)\n",
        "y_pred_future = scaler.inverse_transform(prediction_copies)[:,9]"
      ],
      "metadata": {
        "id": "A68cGGUlkLp7"
      },
      "execution_count": 262,
      "outputs": []
    },
    {
      "cell_type": "code",
      "source": [
        "forecast_dates = []\n",
        "for time_i in predict_period_dates:\n",
        "    forecast_dates.append(time_i.date())\n",
        "    \n",
        "df_forecast = pd.DataFrame({'Date':np.array(forecast_dates), 'price':y_pred_future})\n",
        "df_forecast['Date']=pd.to_datetime(df_forecast['Date'])"
      ],
      "metadata": {
        "id": "RRg0e30rkPIK"
      },
      "execution_count": 263,
      "outputs": []
    },
    {
      "cell_type": "code",
      "source": [
        "original = df[['Date', 'price']]\n",
        "original['Date']=pd.to_datetime(original['Date'])\n",
        "original\n"
      ],
      "metadata": {
        "colab": {
          "base_uri": "https://localhost:8080/",
          "height": 527
        },
        "id": "7PbdmSaPkUK7",
        "outputId": "c2ea68e1-266d-4c68-a2b4-14d49f5f783d"
      },
      "execution_count": 264,
      "outputs": [
        {
          "output_type": "stream",
          "name": "stderr",
          "text": [
            "<ipython-input-264-20f60c629b61>:2: SettingWithCopyWarning: \n",
            "A value is trying to be set on a copy of a slice from a DataFrame.\n",
            "Try using .loc[row_indexer,col_indexer] = value instead\n",
            "\n",
            "See the caveats in the documentation: https://pandas.pydata.org/pandas-docs/stable/user_guide/indexing.html#returning-a-view-versus-a-copy\n",
            "  original['Date']=pd.to_datetime(original['Date'])\n"
          ]
        },
        {
          "output_type": "execute_result",
          "data": {
            "text/plain": [
              "          Date       price\n",
              "0   2006-07-31  100.000000\n",
              "1   2006-08-31  101.924169\n",
              "2   2006-09-29  103.166191\n",
              "3   2006-10-31  104.478956\n",
              "4   2006-11-30  104.160907\n",
              "..         ...         ...\n",
              "145 2018-08-31  120.895608\n",
              "146 2018-09-28  120.817216\n",
              "147 2018-10-31  121.541253\n",
              "148 2018-11-30  120.380297\n",
              "149 2018-12-31  119.687371\n",
              "\n",
              "[150 rows x 2 columns]"
            ],
            "text/html": [
              "\n",
              "  <div id=\"df-c6b0a4c0-3ee6-4941-8962-c75ba14732ae\">\n",
              "    <div class=\"colab-df-container\">\n",
              "      <div>\n",
              "<style scoped>\n",
              "    .dataframe tbody tr th:only-of-type {\n",
              "        vertical-align: middle;\n",
              "    }\n",
              "\n",
              "    .dataframe tbody tr th {\n",
              "        vertical-align: top;\n",
              "    }\n",
              "\n",
              "    .dataframe thead th {\n",
              "        text-align: right;\n",
              "    }\n",
              "</style>\n",
              "<table border=\"1\" class=\"dataframe\">\n",
              "  <thead>\n",
              "    <tr style=\"text-align: right;\">\n",
              "      <th></th>\n",
              "      <th>Date</th>\n",
              "      <th>price</th>\n",
              "    </tr>\n",
              "  </thead>\n",
              "  <tbody>\n",
              "    <tr>\n",
              "      <th>0</th>\n",
              "      <td>2006-07-31</td>\n",
              "      <td>100.000000</td>\n",
              "    </tr>\n",
              "    <tr>\n",
              "      <th>1</th>\n",
              "      <td>2006-08-31</td>\n",
              "      <td>101.924169</td>\n",
              "    </tr>\n",
              "    <tr>\n",
              "      <th>2</th>\n",
              "      <td>2006-09-29</td>\n",
              "      <td>103.166191</td>\n",
              "    </tr>\n",
              "    <tr>\n",
              "      <th>3</th>\n",
              "      <td>2006-10-31</td>\n",
              "      <td>104.478956</td>\n",
              "    </tr>\n",
              "    <tr>\n",
              "      <th>4</th>\n",
              "      <td>2006-11-30</td>\n",
              "      <td>104.160907</td>\n",
              "    </tr>\n",
              "    <tr>\n",
              "      <th>...</th>\n",
              "      <td>...</td>\n",
              "      <td>...</td>\n",
              "    </tr>\n",
              "    <tr>\n",
              "      <th>145</th>\n",
              "      <td>2018-08-31</td>\n",
              "      <td>120.895608</td>\n",
              "    </tr>\n",
              "    <tr>\n",
              "      <th>146</th>\n",
              "      <td>2018-09-28</td>\n",
              "      <td>120.817216</td>\n",
              "    </tr>\n",
              "    <tr>\n",
              "      <th>147</th>\n",
              "      <td>2018-10-31</td>\n",
              "      <td>121.541253</td>\n",
              "    </tr>\n",
              "    <tr>\n",
              "      <th>148</th>\n",
              "      <td>2018-11-30</td>\n",
              "      <td>120.380297</td>\n",
              "    </tr>\n",
              "    <tr>\n",
              "      <th>149</th>\n",
              "      <td>2018-12-31</td>\n",
              "      <td>119.687371</td>\n",
              "    </tr>\n",
              "  </tbody>\n",
              "</table>\n",
              "<p>150 rows × 2 columns</p>\n",
              "</div>\n",
              "      <button class=\"colab-df-convert\" onclick=\"convertToInteractive('df-c6b0a4c0-3ee6-4941-8962-c75ba14732ae')\"\n",
              "              title=\"Convert this dataframe to an interactive table.\"\n",
              "              style=\"display:none;\">\n",
              "        \n",
              "  <svg xmlns=\"http://www.w3.org/2000/svg\" height=\"24px\"viewBox=\"0 0 24 24\"\n",
              "       width=\"24px\">\n",
              "    <path d=\"M0 0h24v24H0V0z\" fill=\"none\"/>\n",
              "    <path d=\"M18.56 5.44l.94 2.06.94-2.06 2.06-.94-2.06-.94-.94-2.06-.94 2.06-2.06.94zm-11 1L8.5 8.5l.94-2.06 2.06-.94-2.06-.94L8.5 2.5l-.94 2.06-2.06.94zm10 10l.94 2.06.94-2.06 2.06-.94-2.06-.94-.94-2.06-.94 2.06-2.06.94z\"/><path d=\"M17.41 7.96l-1.37-1.37c-.4-.4-.92-.59-1.43-.59-.52 0-1.04.2-1.43.59L10.3 9.45l-7.72 7.72c-.78.78-.78 2.05 0 2.83L4 21.41c.39.39.9.59 1.41.59.51 0 1.02-.2 1.41-.59l7.78-7.78 2.81-2.81c.8-.78.8-2.07 0-2.86zM5.41 20L4 18.59l7.72-7.72 1.47 1.35L5.41 20z\"/>\n",
              "  </svg>\n",
              "      </button>\n",
              "      \n",
              "  <style>\n",
              "    .colab-df-container {\n",
              "      display:flex;\n",
              "      flex-wrap:wrap;\n",
              "      gap: 12px;\n",
              "    }\n",
              "\n",
              "    .colab-df-convert {\n",
              "      background-color: #E8F0FE;\n",
              "      border: none;\n",
              "      border-radius: 50%;\n",
              "      cursor: pointer;\n",
              "      display: none;\n",
              "      fill: #1967D2;\n",
              "      height: 32px;\n",
              "      padding: 0 0 0 0;\n",
              "      width: 32px;\n",
              "    }\n",
              "\n",
              "    .colab-df-convert:hover {\n",
              "      background-color: #E2EBFA;\n",
              "      box-shadow: 0px 1px 2px rgba(60, 64, 67, 0.3), 0px 1px 3px 1px rgba(60, 64, 67, 0.15);\n",
              "      fill: #174EA6;\n",
              "    }\n",
              "\n",
              "    [theme=dark] .colab-df-convert {\n",
              "      background-color: #3B4455;\n",
              "      fill: #D2E3FC;\n",
              "    }\n",
              "\n",
              "    [theme=dark] .colab-df-convert:hover {\n",
              "      background-color: #434B5C;\n",
              "      box-shadow: 0px 1px 3px 1px rgba(0, 0, 0, 0.15);\n",
              "      filter: drop-shadow(0px 1px 2px rgba(0, 0, 0, 0.3));\n",
              "      fill: #FFFFFF;\n",
              "    }\n",
              "  </style>\n",
              "\n",
              "      <script>\n",
              "        const buttonEl =\n",
              "          document.querySelector('#df-c6b0a4c0-3ee6-4941-8962-c75ba14732ae button.colab-df-convert');\n",
              "        buttonEl.style.display =\n",
              "          google.colab.kernel.accessAllowed ? 'block' : 'none';\n",
              "\n",
              "        async function convertToInteractive(key) {\n",
              "          const element = document.querySelector('#df-c6b0a4c0-3ee6-4941-8962-c75ba14732ae');\n",
              "          const dataTable =\n",
              "            await google.colab.kernel.invokeFunction('convertToInteractive',\n",
              "                                                     [key], {});\n",
              "          if (!dataTable) return;\n",
              "\n",
              "          const docLinkHtml = 'Like what you see? Visit the ' +\n",
              "            '<a target=\"_blank\" href=https://colab.research.google.com/notebooks/data_table.ipynb>data table notebook</a>'\n",
              "            + ' to learn more about interactive tables.';\n",
              "          element.innerHTML = '';\n",
              "          dataTable['output_type'] = 'display_data';\n",
              "          await google.colab.output.renderOutput(dataTable, element);\n",
              "          const docLink = document.createElement('div');\n",
              "          docLink.innerHTML = docLinkHtml;\n",
              "          element.appendChild(docLink);\n",
              "        }\n",
              "      </script>\n",
              "    </div>\n",
              "  </div>\n",
              "  "
            ]
          },
          "metadata": {},
          "execution_count": 264
        }
      ]
    },
    {
      "cell_type": "code",
      "source": [
        "df_forecast"
      ],
      "metadata": {
        "colab": {
          "base_uri": "https://localhost:8080/",
          "height": 423
        },
        "id": "uQKHlrzh2Jl6",
        "outputId": "fc5422c9-72af-4564-97d4-e2a3b8125ccb"
      },
      "execution_count": 265,
      "outputs": [
        {
          "output_type": "execute_result",
          "data": {
            "text/plain": [
              "          Date       price\n",
              "0   2006-07-31  108.646667\n",
              "1   2006-08-31  108.358185\n",
              "2   2006-09-30  108.391487\n",
              "3   2006-10-31  107.726662\n",
              "4   2006-11-30  107.649391\n",
              "..         ...         ...\n",
              "131 2017-06-30  122.356796\n",
              "132 2017-07-31  122.455536\n",
              "133 2017-08-31  122.788918\n",
              "134 2017-09-30  122.658752\n",
              "135 2017-10-31  122.219254\n",
              "\n",
              "[136 rows x 2 columns]"
            ],
            "text/html": [
              "\n",
              "  <div id=\"df-27393257-badb-491d-94aa-59ddbdb9c111\">\n",
              "    <div class=\"colab-df-container\">\n",
              "      <div>\n",
              "<style scoped>\n",
              "    .dataframe tbody tr th:only-of-type {\n",
              "        vertical-align: middle;\n",
              "    }\n",
              "\n",
              "    .dataframe tbody tr th {\n",
              "        vertical-align: top;\n",
              "    }\n",
              "\n",
              "    .dataframe thead th {\n",
              "        text-align: right;\n",
              "    }\n",
              "</style>\n",
              "<table border=\"1\" class=\"dataframe\">\n",
              "  <thead>\n",
              "    <tr style=\"text-align: right;\">\n",
              "      <th></th>\n",
              "      <th>Date</th>\n",
              "      <th>price</th>\n",
              "    </tr>\n",
              "  </thead>\n",
              "  <tbody>\n",
              "    <tr>\n",
              "      <th>0</th>\n",
              "      <td>2006-07-31</td>\n",
              "      <td>108.646667</td>\n",
              "    </tr>\n",
              "    <tr>\n",
              "      <th>1</th>\n",
              "      <td>2006-08-31</td>\n",
              "      <td>108.358185</td>\n",
              "    </tr>\n",
              "    <tr>\n",
              "      <th>2</th>\n",
              "      <td>2006-09-30</td>\n",
              "      <td>108.391487</td>\n",
              "    </tr>\n",
              "    <tr>\n",
              "      <th>3</th>\n",
              "      <td>2006-10-31</td>\n",
              "      <td>107.726662</td>\n",
              "    </tr>\n",
              "    <tr>\n",
              "      <th>4</th>\n",
              "      <td>2006-11-30</td>\n",
              "      <td>107.649391</td>\n",
              "    </tr>\n",
              "    <tr>\n",
              "      <th>...</th>\n",
              "      <td>...</td>\n",
              "      <td>...</td>\n",
              "    </tr>\n",
              "    <tr>\n",
              "      <th>131</th>\n",
              "      <td>2017-06-30</td>\n",
              "      <td>122.356796</td>\n",
              "    </tr>\n",
              "    <tr>\n",
              "      <th>132</th>\n",
              "      <td>2017-07-31</td>\n",
              "      <td>122.455536</td>\n",
              "    </tr>\n",
              "    <tr>\n",
              "      <th>133</th>\n",
              "      <td>2017-08-31</td>\n",
              "      <td>122.788918</td>\n",
              "    </tr>\n",
              "    <tr>\n",
              "      <th>134</th>\n",
              "      <td>2017-09-30</td>\n",
              "      <td>122.658752</td>\n",
              "    </tr>\n",
              "    <tr>\n",
              "      <th>135</th>\n",
              "      <td>2017-10-31</td>\n",
              "      <td>122.219254</td>\n",
              "    </tr>\n",
              "  </tbody>\n",
              "</table>\n",
              "<p>136 rows × 2 columns</p>\n",
              "</div>\n",
              "      <button class=\"colab-df-convert\" onclick=\"convertToInteractive('df-27393257-badb-491d-94aa-59ddbdb9c111')\"\n",
              "              title=\"Convert this dataframe to an interactive table.\"\n",
              "              style=\"display:none;\">\n",
              "        \n",
              "  <svg xmlns=\"http://www.w3.org/2000/svg\" height=\"24px\"viewBox=\"0 0 24 24\"\n",
              "       width=\"24px\">\n",
              "    <path d=\"M0 0h24v24H0V0z\" fill=\"none\"/>\n",
              "    <path d=\"M18.56 5.44l.94 2.06.94-2.06 2.06-.94-2.06-.94-.94-2.06-.94 2.06-2.06.94zm-11 1L8.5 8.5l.94-2.06 2.06-.94-2.06-.94L8.5 2.5l-.94 2.06-2.06.94zm10 10l.94 2.06.94-2.06 2.06-.94-2.06-.94-.94-2.06-.94 2.06-2.06.94z\"/><path d=\"M17.41 7.96l-1.37-1.37c-.4-.4-.92-.59-1.43-.59-.52 0-1.04.2-1.43.59L10.3 9.45l-7.72 7.72c-.78.78-.78 2.05 0 2.83L4 21.41c.39.39.9.59 1.41.59.51 0 1.02-.2 1.41-.59l7.78-7.78 2.81-2.81c.8-.78.8-2.07 0-2.86zM5.41 20L4 18.59l7.72-7.72 1.47 1.35L5.41 20z\"/>\n",
              "  </svg>\n",
              "      </button>\n",
              "      \n",
              "  <style>\n",
              "    .colab-df-container {\n",
              "      display:flex;\n",
              "      flex-wrap:wrap;\n",
              "      gap: 12px;\n",
              "    }\n",
              "\n",
              "    .colab-df-convert {\n",
              "      background-color: #E8F0FE;\n",
              "      border: none;\n",
              "      border-radius: 50%;\n",
              "      cursor: pointer;\n",
              "      display: none;\n",
              "      fill: #1967D2;\n",
              "      height: 32px;\n",
              "      padding: 0 0 0 0;\n",
              "      width: 32px;\n",
              "    }\n",
              "\n",
              "    .colab-df-convert:hover {\n",
              "      background-color: #E2EBFA;\n",
              "      box-shadow: 0px 1px 2px rgba(60, 64, 67, 0.3), 0px 1px 3px 1px rgba(60, 64, 67, 0.15);\n",
              "      fill: #174EA6;\n",
              "    }\n",
              "\n",
              "    [theme=dark] .colab-df-convert {\n",
              "      background-color: #3B4455;\n",
              "      fill: #D2E3FC;\n",
              "    }\n",
              "\n",
              "    [theme=dark] .colab-df-convert:hover {\n",
              "      background-color: #434B5C;\n",
              "      box-shadow: 0px 1px 3px 1px rgba(0, 0, 0, 0.15);\n",
              "      filter: drop-shadow(0px 1px 2px rgba(0, 0, 0, 0.3));\n",
              "      fill: #FFFFFF;\n",
              "    }\n",
              "  </style>\n",
              "\n",
              "      <script>\n",
              "        const buttonEl =\n",
              "          document.querySelector('#df-27393257-badb-491d-94aa-59ddbdb9c111 button.colab-df-convert');\n",
              "        buttonEl.style.display =\n",
              "          google.colab.kernel.accessAllowed ? 'block' : 'none';\n",
              "\n",
              "        async function convertToInteractive(key) {\n",
              "          const element = document.querySelector('#df-27393257-badb-491d-94aa-59ddbdb9c111');\n",
              "          const dataTable =\n",
              "            await google.colab.kernel.invokeFunction('convertToInteractive',\n",
              "                                                     [key], {});\n",
              "          if (!dataTable) return;\n",
              "\n",
              "          const docLinkHtml = 'Like what you see? Visit the ' +\n",
              "            '<a target=\"_blank\" href=https://colab.research.google.com/notebooks/data_table.ipynb>data table notebook</a>'\n",
              "            + ' to learn more about interactive tables.';\n",
              "          element.innerHTML = '';\n",
              "          dataTable['output_type'] = 'display_data';\n",
              "          await google.colab.output.renderOutput(dataTable, element);\n",
              "          const docLink = document.createElement('div');\n",
              "          docLink.innerHTML = docLinkHtml;\n",
              "          element.appendChild(docLink);\n",
              "        }\n",
              "      </script>\n",
              "    </div>\n",
              "  </div>\n",
              "  "
            ]
          },
          "metadata": {},
          "execution_count": 265
        }
      ]
    },
    {
      "cell_type": "code",
      "source": [
        "original.plot(x='Date',y='price')\n",
        "original= pd.concat([original,df_forecast],axis=0)\n",
        "original.plot(x='Date',y='price')\n",
        "#f_forecast.plot(x='Date',y='price')\n"
      ],
      "metadata": {
        "colab": {
          "base_uri": "https://localhost:8080/",
          "height": 871
        },
        "id": "RLBZ0Dddla_5",
        "outputId": "542c357b-8217-4341-9d6b-a4ccfb55a965"
      },
      "execution_count": 266,
      "outputs": [
        {
          "output_type": "execute_result",
          "data": {
            "text/plain": [
              "<Axes: xlabel='Date'>"
            ]
          },
          "metadata": {},
          "execution_count": 266
        },
        {
          "output_type": "display_data",
          "data": {
            "text/plain": [
              "<Figure size 640x480 with 1 Axes>"
            ],
            "image/png": "[encoded data removed]"
          },
          "metadata": {}
        },
        {
          "output_type": "display_data",
          "data": {
            "text/plain": [
              "<Figure size 640x480 with 1 Axes>"
            ],
            "image/png": "[encoded data removed]"
          },
          "metadata": {}
        }
      ]
    },
    {
      "cell_type": "code",
      "source": [
        "def RMS(actual,predicted):\n",
        "    rms = math.sqrt((((actual-predicted)/actual)**2).mean())\n",
        "    return rms"
      ],
      "metadata": {
        "id": "PMMtmNfgyWRT"
      },
      "execution_count": 267,
      "outputs": []
    },
    {
      "cell_type": "code",
      "source": [
        "error = (RMS(original['price'],df_forecast['price']))*100\n"
      ],
      "metadata": {
        "id": "8BlofnfV3tnS"
      },
      "execution_count": 268,
      "outputs": []
    },
    {
      "cell_type": "code",
      "source": [
        "Efficiency = 100 - error\n",
        "print(\"Efficiency = \",Efficiency,\"%\")"
      ],
      "metadata": {
        "colab": {
          "base_uri": "https://localhost:8080/"
        },
        "id": "Z6cR_Mar4RA-",
        "outputId": "17f4d604-3a46-431c-df1c-9730fa89c662"
      },
      "execution_count": 269,
      "outputs": [
        {
          "output_type": "stream",
          "name": "stdout",
          "text": [
            "Efficiency =  97.744536106436 %\n"
          ]
        }
      ]
    },
    {
      "cell_type": "code",
      "source": [],
      "metadata": {
        "id": "EaCxqQP97p0o"
      },
      "execution_count": 269,
      "outputs": []
    }
  ]
}
